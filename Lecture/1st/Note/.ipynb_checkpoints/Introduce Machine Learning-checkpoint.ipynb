{
 "cells": [
  {
   "cell_type": "markdown",
   "metadata": {
    "slideshow": {
     "slide_type": "slide"
    }
   },
   "source": [
    "<h1 style=\"text-align:center\">Introduce Machine Learning</h1>\n",
    "\n",
    "<p style=\"text-align:center\"><b>Tae Geun Kim</b></p>"
   ]
  },
  {
   "cell_type": "markdown",
   "metadata": {
    "slideshow": {
     "slide_type": "subslide"
    }
   },
   "source": [
    "## - Table of Contents\n",
    "\n",
    "* Types of Machine Learning"
   ]
  },
  {
   "cell_type": "markdown",
   "metadata": {
    "slideshow": {
     "slide_type": "slide"
    }
   },
   "source": [
    "<h1 style=\"text-align:center\">Types of Machine Learning</h1>"
   ]
  },
  {
   "cell_type": "markdown",
   "metadata": {
    "slideshow": {
     "slide_type": "subslide"
    }
   },
   "source": [
    "### Types of Machine Learning\n",
    "\n",
    "* Supervised Learning\n",
    "* Unsupervised Learning\n",
    "* Reinforcement Learning\n",
    "* Evolutionary Learning"
   ]
  },
  {
   "cell_type": "markdown",
   "metadata": {
    "slideshow": {
     "slide_type": "subslide"
    }
   },
   "source": [
    "![Machine Learning Algorithm](MachineLearningAlgorithms.png)"
   ]
  },
  {
   "cell_type": "markdown",
   "metadata": {
    "slideshow": {
     "slide_type": "subslide"
    }
   },
   "source": [
    "We will divide ML by two ways\n",
    "\n",
    "* Statistical Learning (Based on Statistics)\n",
    "* Deep Learning (Based on Induction)"
   ]
  },
  {
   "cell_type": "markdown",
   "metadata": {
    "slideshow": {
     "slide_type": "fragment"
    }
   },
   "source": [
    "For Statistical Learning,\n",
    "\n",
    "* Statistics\n",
    "* R (or Scipy or Julia)\n",
    "* DIY (Do it yourself with your own languages)"
   ]
  },
  {
   "cell_type": "markdown",
   "metadata": {
    "slideshow": {
     "slide_type": "fragment"
    }
   },
   "source": [
    "For Deep Learning,\n",
    "\n",
    "* Tensorflow\n",
    "* Torch / PyTorch\n",
    "* MXNet or Other Frameworks"
   ]
  },
  {
   "cell_type": "markdown",
   "metadata": {
    "slideshow": {
     "slide_type": "slide"
    }
   },
   "source": [
    "<h1 style=\"text-align:center\">Scoring Machine Learning Algorithm</h1>"
   ]
  },
  {
   "cell_type": "markdown",
   "metadata": {
    "slideshow": {
     "slide_type": "subslide"
    }
   },
   "source": [
    "## 1. Overfitting\n",
    "\n",
    "![Overfitting](overfitting.png)"
   ]
  },
  {
   "cell_type": "markdown",
   "metadata": {
    "slideshow": {
     "slide_type": "fragment"
    }
   },
   "source": [
    "We need to third data sets - **validation set**. This procedure called **Cross Validation**"
   ]
  },
  {
   "cell_type": "markdown",
   "metadata": {
    "slideshow": {
     "slide_type": "subslide"
    }
   },
   "source": [
    "But in some cases, we can't get enough labeled data. So, we need **semi-supervised learning**.\n",
    "\n",
    "There are some ways :\n",
    "\n",
    "* Leave Some Out (Leave one out)\n",
    "* Multifold cross validation"
   ]
  },
  {
   "cell_type": "markdown",
   "metadata": {
    "slideshow": {
     "slide_type": "subslide"
    }
   },
   "source": [
    "### Example : Multifold cross validation\n",
    "\n",
    "![K-Fold](Kfold.jpg)"
   ]
  },
  {
   "cell_type": "markdown",
   "metadata": {
    "slideshow": {
     "slide_type": "subslide"
    }
   },
   "source": [
    "## 2. Confusion Matrix\n",
    "\n",
    "Actual \\ Predicted | Cat | Dog | Rabbit\n",
    ":--: | :--: | :--: | :--:\n",
    "Cat | 5 | 3 | 0 \n",
    "Dog | 2 | 3 | 1\n",
    "Rabbit | 0 | 2 | 11"
   ]
  },
  {
   "cell_type": "markdown",
   "metadata": {
    "slideshow": {
     "slide_type": "subslide"
    }
   },
   "source": [
    "![Confusion](confusion.png)"
   ]
  },
  {
   "cell_type": "markdown",
   "metadata": {
    "slideshow": {
     "slide_type": "subslide"
    }
   },
   "source": [
    "Predicted \\ Actual | Cat | Non-cat\n",
    ":--: | :--: | :--:\n",
    "Cat | 5 TP | 3 FN\n",
    "Non-cat | 2 FP | 17 TN"
   ]
  },
  {
   "cell_type": "markdown",
   "metadata": {
    "slideshow": {
     "slide_type": "subslide"
    }
   },
   "source": [
    "* Notations\n",
    "$$ P = TP + FN, ~ N = FP + TN $$\n",
    "\n",
    "* Accuracy\n",
    "$$ ACC = \\frac{TP+TN}{P + N} $$\n",
    "\n",
    "* Sensitivity, Recall, True positive rate\n",
    "$$ TPR = \\frac{TP}{P} $$\n",
    "\n",
    "* Specificity, True negative rate\n",
    "$$ TNR = \\frac{TN}{N} $$\n",
    "\n",
    "* Precision, Positive predictive value\n",
    "$$ PPV = \\frac{TP}{TP + FP} $$\n",
    "\n",
    "* Negative Predictive Value\n",
    "$$ NPV = \\frac{TN}{TN + FN} $$"
   ]
  },
  {
   "cell_type": "markdown",
   "metadata": {
    "slideshow": {
     "slide_type": "subslide"
    }
   },
   "source": [
    "* High Recall $\\rightarrow$ the class is correctly recognized (small FN)\n",
    "* High Precision $\\rightarrow$ an example labeled as positive is indeed positive (small FP)\n",
    "* High Recall, Low Precision $\\rightarrow$ Miss a lot of positive examples, but those we predict as positive are indeed positive (low FP)"
   ]
  },
  {
   "cell_type": "markdown",
   "metadata": {
    "slideshow": {
     "slide_type": "subslide"
    }
   },
   "source": [
    "* F-measure\n",
    "\n",
    "$$ F = \\frac{1}{\\alpha\\frac{1}{PPV} + (1-\\alpha)\\frac{1}{TPR}} = \\frac{(\\beta^2 + 1)PPV \\times TPR}{\\beta^2 PPV + TPR}$$\n",
    "\n",
    "\n",
    "* $F_1$-measure ($\\beta = 1$)\n",
    "\n",
    "$$F_1 = 2 \\times \\frac{TPR \\times PPV}{TPR + PPV}$$"
   ]
  },
  {
   "cell_type": "markdown",
   "metadata": {
    "slideshow": {
     "slide_type": "fragment"
    }
   },
   "source": [
    "* $F_1 \\, \\rightarrow \\, 1$ : Best!\n",
    "* $F_1 \\, \\rightarrow \\, 0$ : Worst!"
   ]
  }
 ],
 "metadata": {
  "celltoolbar": "Slideshow",
  "kernelspec": {
   "display_name": "iTorch",
   "language": "lua",
   "name": "itorch"
  },
  "language_info": {
   "name": "lua",
   "version": "5.1"
  }
 },
 "nbformat": 4,
 "nbformat_minor": 0
}
